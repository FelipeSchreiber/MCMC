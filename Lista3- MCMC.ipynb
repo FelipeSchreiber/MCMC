{
 "cells": [
  {
   "cell_type": "code",
   "execution_count": 1,
   "id": "1ec0d4b3",
   "metadata": {},
   "outputs": [],
   "source": [
    "import numpy as np\n",
    "import matplotlib.pyplot as plt"
   ]
  },
  {
   "cell_type": "markdown",
   "id": "85f112cf",
   "metadata": {},
   "source": [
    "# Questão 2 Item 1 e 2"
   ]
  },
  {
   "cell_type": "code",
   "execution_count": 2,
   "id": "ab8f7fc2",
   "metadata": {},
   "outputs": [],
   "source": [
    "def compute_stationary_distribution(M):\n",
    "    w,v = np.linalg.eig(M.T)\n",
    "    i = np.argmax(w)\n",
    "    eig_val = w[i]\n",
    "    l = np.real(v[:,i])\n",
    "    print(np.allclose(M.T@l,l))\n",
    "    return l/np.sum(l)"
   ]
  },
  {
   "cell_type": "markdown",
   "id": "72d3eae2",
   "metadata": {},
   "source": [
    "## Grafo em Anel"
   ]
  },
  {
   "cell_type": "code",
   "execution_count": 3,
   "id": "4655dda2",
   "metadata": {},
   "outputs": [
    {
     "data": {
      "text/plain": [
       "array([[0.5 , 0.25, 0.  , ..., 0.  , 0.  , 0.25],\n",
       "       [0.25, 0.5 , 0.25, ..., 0.  , 0.  , 0.  ],\n",
       "       [0.  , 0.25, 0.5 , ..., 0.  , 0.  , 0.  ],\n",
       "       ...,\n",
       "       [0.  , 0.  , 0.  , ..., 0.5 , 0.25, 0.  ],\n",
       "       [0.  , 0.  , 0.  , ..., 0.25, 0.5 , 0.25],\n",
       "       [0.25, 0.  , 0.  , ..., 0.  , 0.25, 0.5 ]])"
      ]
     },
     "execution_count": 3,
     "metadata": {},
     "output_type": "execute_result"
    }
   ],
   "source": [
    "n = 100 # Numero de vertices\n",
    "pi = np.ones(n)/n # Distribuição estacionária\n",
    "P_anel = np.zeros((n,n)) #Matriz de transição\n",
    "P_anel[0][0] = 0.5\n",
    "P_anel[0][n-1] = 0.25\n",
    "P_anel[0][1] = 0.25\n",
    "P_anel[n-1][n-1] = 0.5\n",
    "P_anel[n-1][n-2] = 0.25\n",
    "P_anel[n-1][0] = 0.25\n",
    "\n",
    "for i in range(1,n-1):\n",
    "    P_anel[i][i] = 0.5 \n",
    "    P_anel[i][i+1] = 0.25\n",
    "    P_anel[i][i-1] = 0.25\n",
    "P_anel"
   ]
  },
  {
   "cell_type": "code",
   "execution_count": 4,
   "id": "ead568f5",
   "metadata": {},
   "outputs": [
    {
     "name": "stdout",
     "output_type": "stream",
     "text": [
      "True\n",
      "Distribuição estacionária: \n",
      " [0.01 0.01 0.01 0.01 0.01 0.01 0.01 0.01 0.01 0.01 0.01 0.01 0.01 0.01\n",
      " 0.01 0.01 0.01 0.01 0.01 0.01 0.01 0.01 0.01 0.01 0.01 0.01 0.01 0.01\n",
      " 0.01 0.01 0.01 0.01 0.01 0.01 0.01 0.01 0.01 0.01 0.01 0.01 0.01 0.01\n",
      " 0.01 0.01 0.01 0.01 0.01 0.01 0.01 0.01 0.01 0.01 0.01 0.01 0.01 0.01\n",
      " 0.01 0.01 0.01 0.01 0.01 0.01 0.01 0.01 0.01 0.01 0.01 0.01 0.01 0.01\n",
      " 0.01 0.01 0.01 0.01 0.01 0.01 0.01 0.01 0.01 0.01 0.01 0.01 0.01 0.01\n",
      " 0.01 0.01 0.01 0.01 0.01 0.01 0.01 0.01 0.01 0.01 0.01 0.01 0.01 0.01\n",
      " 0.01 0.01]\n"
     ]
    }
   ],
   "source": [
    "pi_anel = compute_stationary_distribution(P_anel) \n",
    "print(\"Distribuição estacionária: \\n\", pi_anel)"
   ]
  },
  {
   "cell_type": "markdown",
   "id": "1dd86c58",
   "metadata": {},
   "source": [
    "## Arvore completa"
   ]
  },
  {
   "cell_type": "code",
   "execution_count": 5,
   "id": "42c2ea6c",
   "metadata": {},
   "outputs": [],
   "source": [
    "P_arvore = np.zeros((127,127))\n",
    "for i in range(127):\n",
    "    P_arvore[i][i] = 0.5 \n",
    "    if i == 0:\n",
    "        P_arvore[i][i+1] = 0.25 \n",
    "        P_arvore[i][i+2] = 0.25 \n",
    "\n",
    "    elif 0 < i < 63:\n",
    "        P_arvore[i][2*i + 1] = 1/6\n",
    "        P_arvore[i][2*i + 2] = 1/6\n",
    "        P_arvore[i][int((i-1)/2)] = 1/6 \n",
    "    \n",
    "    else:\n",
    "        P_arvore[i][int((i-1)/2)] = 0.5"
   ]
  },
  {
   "cell_type": "code",
   "execution_count": 6,
   "id": "1d4ac741",
   "metadata": {},
   "outputs": [
    {
     "data": {
      "text/plain": [
       "array([[0.5       , 0.25      , 0.25      , ..., 0.        , 0.        ,\n",
       "        0.        ],\n",
       "       [0.16666667, 0.5       , 0.        , ..., 0.        , 0.        ,\n",
       "        0.        ],\n",
       "       [0.16666667, 0.        , 0.5       , ..., 0.        , 0.        ,\n",
       "        0.        ],\n",
       "       ...,\n",
       "       [0.        , 0.        , 0.        , ..., 0.5       , 0.        ,\n",
       "        0.        ],\n",
       "       [0.        , 0.        , 0.        , ..., 0.        , 0.5       ,\n",
       "        0.        ],\n",
       "       [0.        , 0.        , 0.        , ..., 0.        , 0.        ,\n",
       "        0.5       ]])"
      ]
     },
     "execution_count": 6,
     "metadata": {},
     "output_type": "execute_result"
    }
   ],
   "source": [
    "P_arvore"
   ]
  },
  {
   "cell_type": "code",
   "execution_count": 8,
   "id": "c08475ea",
   "metadata": {},
   "outputs": [
    {
     "name": "stdout",
     "output_type": "stream",
     "text": [
      "True\n",
      "Distribuição estacionária: \n",
      " [0.00793651 0.01190476 0.01190476 0.01190476 0.01190476 0.01190476\n",
      " 0.01190476 0.01190476 0.01190476 0.01190476 0.01190476 0.01190476\n",
      " 0.01190476 0.01190476 0.01190476 0.01190476 0.01190476 0.01190476\n",
      " 0.01190476 0.01190476 0.01190476 0.01190476 0.01190476 0.01190476\n",
      " 0.01190476 0.01190476 0.01190476 0.01190476 0.01190476 0.01190476\n",
      " 0.01190476 0.01190476 0.01190476 0.01190476 0.01190476 0.01190476\n",
      " 0.01190476 0.01190476 0.01190476 0.01190476 0.01190476 0.01190476\n",
      " 0.01190476 0.01190476 0.01190476 0.01190476 0.01190476 0.01190476\n",
      " 0.01190476 0.01190476 0.01190476 0.01190476 0.01190476 0.01190476\n",
      " 0.01190476 0.01190476 0.01190476 0.01190476 0.01190476 0.01190476\n",
      " 0.01190476 0.01190476 0.01190476 0.00396825 0.00396825 0.00396825\n",
      " 0.00396825 0.00396825 0.00396825 0.00396825 0.00396825 0.00396825\n",
      " 0.00396825 0.00396825 0.00396825 0.00396825 0.00396825 0.00396825\n",
      " 0.00396825 0.00396825 0.00396825 0.00396825 0.00396825 0.00396825\n",
      " 0.00396825 0.00396825 0.00396825 0.00396825 0.00396825 0.00396825\n",
      " 0.00396825 0.00396825 0.00396825 0.00396825 0.00396825 0.00396825\n",
      " 0.00396825 0.00396825 0.00396825 0.00396825 0.00396825 0.00396825\n",
      " 0.00396825 0.00396825 0.00396825 0.00396825 0.00396825 0.00396825\n",
      " 0.00396825 0.00396825 0.00396825 0.00396825 0.00396825 0.00396825\n",
      " 0.00396825 0.00396825 0.00396825 0.00396825 0.00396825 0.00396825\n",
      " 0.00396825 0.00396825 0.00396825 0.00396825 0.00396825 0.00396825\n",
      " 0.00396825]\n"
     ]
    }
   ],
   "source": [
    "pi_arvore = compute_stationary_distribution(P_arvore) \n",
    "print(\"Distribuição estacionária: \\n\", pi_arvore)"
   ]
  },
  {
   "cell_type": "markdown",
   "id": "3b21f8fb",
   "metadata": {},
   "source": [
    "## Grid"
   ]
  },
  {
   "cell_type": "code",
   "execution_count": 9,
   "id": "779be25e",
   "metadata": {},
   "outputs": [],
   "source": [
    "P_grid = np.zeros((n,n))\n",
    "for i in range(10):\n",
    "    for j in range(10):\n",
    "        P_grid[i*10+j][i*10+j] = 0.5\n",
    "        if i == 0 and j != 0 and j != 9:\n",
    "            P_grid[i*10+j][i*10+j+1] = 1/6\n",
    "            P_grid[i*10+j][i*10+j-1] = 1/6\n",
    "            P_grid[i*10+j][(i+1)*10+j] = 1/6\n",
    "        elif i == 9 and j != 0 and j != 9:\n",
    "            P_grid[i*10+j][i*10+j+1] = 1/6\n",
    "            P_grid[i*10+j][i*10+j-1] = 1/6\n",
    "            P_grid[i*10+j][(i-1)*10+j] = 1/6\n",
    "        elif j == 0 and i != 0 and i != 9:\n",
    "            P_grid[i*10+j][i*10+j+1] = 1/6\n",
    "            P_grid[i*10+j][(i+1)*10+j] = 1/6\n",
    "            P_grid[i*10+j][(i-1)*10+j] = 1/6\n",
    "        elif j == 9 and i != 0 and i != 9:\n",
    "            P_grid[i*10+j][i*10+j-1] = 1/6\n",
    "            P_grid[i*10+j][(i+1)*10+j] = 1/6\n",
    "            P_grid[i*10+j][(i-1)*10+j] = 1/6\n",
    "        elif i == 0 and j == 0:\n",
    "            P_grid[i*10+j][i*10+j+1] = 0.25\n",
    "            P_grid[i*10+j][(i+1)*10+j] = 0.25\n",
    "        elif i == 0 and j == 9:\n",
    "            P_grid[i*10+j][i*10+j-1] = 0.25\n",
    "            P_grid[i*10+j][(i+1)*10+j] = 0.25\n",
    "        elif i == 9 and j == 9:\n",
    "            P_grid[i*10+j][i*10+j-1] = 0.25\n",
    "            P_grid[i*10+j][(i-1)*10+j] = 0.25\n",
    "        elif i == 9 and j == 0:\n",
    "            P_grid[i*10+j][i*10+j+1] = 0.25\n",
    "            P_grid[i*10+j][(i-1)*10+j] = 0.25\n",
    "        else:\n",
    "            P_grid[i*10+j][(i-1)*10+j] = 1/8\n",
    "            P_grid[i*10+j][i*10+j+1] = 1/8\n",
    "            P_grid[i*10+j][(i+1)*10+j]  = 1/8\n",
    "            P_grid[i*10+j][i*10+j-1] = 1/8"
   ]
  },
  {
   "cell_type": "code",
   "execution_count": 10,
   "id": "e74602bc",
   "metadata": {},
   "outputs": [
    {
     "data": {
      "text/plain": [
       "array([0.5 , 0.25, 0.  , 0.  , 0.  , 0.  , 0.  , 0.  , 0.  , 0.  , 0.25,\n",
       "       0.  , 0.  , 0.  , 0.  , 0.  , 0.  , 0.  , 0.  , 0.  , 0.  , 0.  ,\n",
       "       0.  , 0.  , 0.  , 0.  , 0.  , 0.  , 0.  , 0.  , 0.  , 0.  , 0.  ,\n",
       "       0.  , 0.  , 0.  , 0.  , 0.  , 0.  , 0.  , 0.  , 0.  , 0.  , 0.  ,\n",
       "       0.  , 0.  , 0.  , 0.  , 0.  , 0.  , 0.  , 0.  , 0.  , 0.  , 0.  ,\n",
       "       0.  , 0.  , 0.  , 0.  , 0.  , 0.  , 0.  , 0.  , 0.  , 0.  , 0.  ,\n",
       "       0.  , 0.  , 0.  , 0.  , 0.  , 0.  , 0.  , 0.  , 0.  , 0.  , 0.  ,\n",
       "       0.  , 0.  , 0.  , 0.  , 0.  , 0.  , 0.  , 0.  , 0.  , 0.  , 0.  ,\n",
       "       0.  , 0.  , 0.  , 0.  , 0.  , 0.  , 0.  , 0.  , 0.  , 0.  , 0.  ,\n",
       "       0.  ])"
      ]
     },
     "execution_count": 10,
     "metadata": {},
     "output_type": "execute_result"
    }
   ],
   "source": [
    "P_grid[0,:]"
   ]
  },
  {
   "cell_type": "code",
   "execution_count": 11,
   "id": "c42af89d",
   "metadata": {},
   "outputs": [
    {
     "name": "stdout",
     "output_type": "stream",
     "text": [
      "True\n",
      "Distribuição estacionária: \n",
      " [0.00555556 0.00833333 0.00833333 0.00833333 0.00833333 0.00833333\n",
      " 0.00833333 0.00833333 0.00833333 0.00555556 0.00833333 0.01111111\n",
      " 0.01111111 0.01111111 0.01111111 0.01111111 0.01111111 0.01111111\n",
      " 0.01111111 0.00833333 0.00833333 0.01111111 0.01111111 0.01111111\n",
      " 0.01111111 0.01111111 0.01111111 0.01111111 0.01111111 0.00833333\n",
      " 0.00833333 0.01111111 0.01111111 0.01111111 0.01111111 0.01111111\n",
      " 0.01111111 0.01111111 0.01111111 0.00833333 0.00833333 0.01111111\n",
      " 0.01111111 0.01111111 0.01111111 0.01111111 0.01111111 0.01111111\n",
      " 0.01111111 0.00833333 0.00833333 0.01111111 0.01111111 0.01111111\n",
      " 0.01111111 0.01111111 0.01111111 0.01111111 0.01111111 0.00833333\n",
      " 0.00833333 0.01111111 0.01111111 0.01111111 0.01111111 0.01111111\n",
      " 0.01111111 0.01111111 0.01111111 0.00833333 0.00833333 0.01111111\n",
      " 0.01111111 0.01111111 0.01111111 0.01111111 0.01111111 0.01111111\n",
      " 0.01111111 0.00833333 0.00833333 0.01111111 0.01111111 0.01111111\n",
      " 0.01111111 0.01111111 0.01111111 0.01111111 0.01111111 0.00833333\n",
      " 0.00555556 0.00833333 0.00833333 0.00833333 0.00833333 0.00833333\n",
      " 0.00833333 0.00833333 0.00833333 0.00555556]\n"
     ]
    }
   ],
   "source": [
    "pi_grid = compute_stationary_distribution(P_grid)  \n",
    "print(\"Distribuição estacionária: \\n\", pi_grid)"
   ]
  },
  {
   "cell_type": "markdown",
   "id": "72605a3b",
   "metadata": {},
   "source": [
    "# Questão 2 Item 3"
   ]
  },
  {
   "cell_type": "code",
   "execution_count": 12,
   "id": "f540c806",
   "metadata": {},
   "outputs": [],
   "source": [
    "def compute_total_variance(x,y):\n",
    "    return np.sum(np.abs(x-y))/2"
   ]
  },
  {
   "cell_type": "code",
   "execution_count": 13,
   "id": "be339f9e",
   "metadata": {},
   "outputs": [],
   "source": [
    "diff_grid = []\n",
    "diff_anel = []\n",
    "diff_arvore = []\n",
    "pi_zero_grid = np.zeros(n)\n",
    "pi_zero_grid[0] = 1\n",
    "pi_zero_anel = np.zeros(n)\n",
    "pi_zero_anel[0] = 1\n",
    "pi_zero_arvore = np.zeros(127)\n",
    "pi_zero_arvore[0] = 1\n",
    "for i in range(1000):\n",
    "    pi_zero_grid = pi_zero_grid@P_grid\n",
    "    diff_grid.append(compute_total_variance(pi_grid,pi_zero_grid))\n",
    "    pi_zero_anel = pi_zero_anel@P_anel\n",
    "    diff_anel.append(compute_total_variance(pi_anel,pi_zero_anel))\n",
    "    pi_zero_arvore = pi_zero_arvore@P_arvore\n",
    "    diff_arvore.append(compute_total_variance(pi_arvore,pi_zero_arvore))"
   ]
  },
  {
   "cell_type": "code",
   "execution_count": 14,
   "id": "91c0bb73",
   "metadata": {},
   "outputs": [
    {
     "data": {
      "image/png": "[encoded data removed]",
      "text/plain": [
       "<Figure size 432x288 with 1 Axes>"
      ]
     },
     "metadata": {
      "needs_background": "light"
     },
     "output_type": "display_data"
    }
   ],
   "source": [
    "plt.plot(diff_anel,label=\"Anel\")\n",
    "plt.plot(diff_grid,label=\"Grid\")\n",
    "plt.plot(diff_arvore,label=\"Arvore\")\n",
    "plt.legend()\n",
    "plt.loglog()\n",
    "plt.xlabel(\"t\")\n",
    "plt.ylabel(\"total_variance($\\pi(t)$,$\\pi$)\")\n",
    "plt.show()"
   ]
  },
  {
   "cell_type": "markdown",
   "id": "5558d4fe",
   "metadata": {},
   "source": [
    "# Questão 3"
   ]
  },
  {
   "cell_type": "markdown",
   "id": "c9339960",
   "metadata": {},
   "source": [
    "## Item 2"
   ]
  },
  {
   "cell_type": "code",
   "execution_count": 15,
   "id": "20d8810b",
   "metadata": {},
   "outputs": [],
   "source": [
    "def compute_spectral_gap(M):\n",
    "    eigenvals = np.abs(np.linalg.eigvals(M))\n",
    "    i = np.argmax(eigenvals)\n",
    "    eigenvals[i]-=eigenvals[i] \n",
    "    j = np.argmax(eigenvals)\n",
    "    return 1 - eigenvals[j]"
   ]
  },
  {
   "cell_type": "code",
   "execution_count": 24,
   "id": "f2399813",
   "metadata": {},
   "outputs": [
    {
     "name": "stdout",
     "output_type": "stream",
     "text": [
      "Spectral gap p=0.25:  0.9998287470308262\n",
      "Spectral gap p=0.5:  0.9996574940616374\n",
      "Spectral gap p=0.75:  0.9999956454358888\n"
     ]
    }
   ],
   "source": [
    "ps = [0.25,0.5,0.75]\n",
    "Ps = []\n",
    "gaps = []\n",
    "pi_knot = []\n",
    "for p in ps:\n",
    "    P = np.ones(9)\n",
    "    P *= p\n",
    "    P = np.diag(P,1)\n",
    "    P[:,0] = 1-p\n",
    "    P[-1,-1] = p\n",
    "    gaps.append(compute_spectral_gap(P))\n",
    "    print(f\"Spectral gap p={p}: \",gaps[-1])\n",
    "    Ps.append(P)"
   ]
  },
  {
   "cell_type": "code",
   "execution_count": 25,
   "id": "09bb2450",
   "metadata": {},
   "outputs": [
    {
     "data": {
      "text/plain": [
       "array([[0.75, 0.25, 0.  , 0.  , 0.  , 0.  , 0.  , 0.  , 0.  , 0.  ],\n",
       "       [0.75, 0.  , 0.25, 0.  , 0.  , 0.  , 0.  , 0.  , 0.  , 0.  ],\n",
       "       [0.75, 0.  , 0.  , 0.25, 0.  , 0.  , 0.  , 0.  , 0.  , 0.  ],\n",
       "       [0.75, 0.  , 0.  , 0.  , 0.25, 0.  , 0.  , 0.  , 0.  , 0.  ],\n",
       "       [0.75, 0.  , 0.  , 0.  , 0.  , 0.25, 0.  , 0.  , 0.  , 0.  ],\n",
       "       [0.75, 0.  , 0.  , 0.  , 0.  , 0.  , 0.25, 0.  , 0.  , 0.  ],\n",
       "       [0.75, 0.  , 0.  , 0.  , 0.  , 0.  , 0.  , 0.25, 0.  , 0.  ],\n",
       "       [0.75, 0.  , 0.  , 0.  , 0.  , 0.  , 0.  , 0.  , 0.25, 0.  ],\n",
       "       [0.75, 0.  , 0.  , 0.  , 0.  , 0.  , 0.  , 0.  , 0.  , 0.25],\n",
       "       [0.75, 0.  , 0.  , 0.  , 0.  , 0.  , 0.  , 0.  , 0.  , 0.25]])"
      ]
     },
     "execution_count": 25,
     "metadata": {},
     "output_type": "execute_result"
    }
   ],
   "source": [
    "Ps[0]"
   ]
  },
  {
   "cell_type": "markdown",
   "id": "f8979e0b",
   "metadata": {},
   "source": [
    "## Item 3"
   ]
  },
  {
   "cell_type": "code",
   "execution_count": 26,
   "id": "85c87888",
   "metadata": {},
   "outputs": [
    {
     "name": "stdout",
     "output_type": "stream",
     "text": [
      "---------------------------------------\n",
      "True\n",
      "p = 0.25\n",
      "Distribuição estacionária: \n",
      " [7.50000000e-01 1.87500000e-01 4.68750000e-02 1.17187500e-02\n",
      " 2.92968750e-03 7.32421875e-04 1.83105469e-04 4.57763672e-05\n",
      " 1.14440918e-05 3.81469727e-06]\n",
      "Estado menos provavel:  9\n",
      "---------------------------------------\n",
      "True\n",
      "p = 0.5\n",
      "Distribuição estacionária: \n",
      " [0.5        0.25       0.125      0.0625     0.03125    0.015625\n",
      " 0.0078125  0.00390625 0.00195312 0.00195312]\n",
      "Estado menos provavel:  8\n",
      "---------------------------------------\n",
      "True\n",
      "p = 0.75\n",
      "Distribuição estacionária: \n",
      " [0.25       0.1875     0.140625   0.10546875 0.07910156 0.05932617\n",
      " 0.04449463 0.03337097 0.02502823 0.07508469]\n",
      "Estado menos provavel:  8\n"
     ]
    }
   ],
   "source": [
    "for P,p in zip(Ps,ps):\n",
    "    print(\"---------------------------------------\")\n",
    "    pi = compute_stationary_distribution(P)\n",
    "    print(f\"p = {p}\")\n",
    "    print(\"Distribuição estacionária: \\n\", pi)\n",
    "    i = np.argmin(pi)\n",
    "    pi_knot.append(pi[i])\n",
    "    print(\"Estado menos provavel: \",i)"
   ]
  },
  {
   "cell_type": "markdown",
   "id": "efff16ac",
   "metadata": {},
   "source": [
    "## Item 4"
   ]
  },
  {
   "cell_type": "code",
   "execution_count": 27,
   "id": "407345eb",
   "metadata": {},
   "outputs": [
    {
     "name": "stdout",
     "output_type": "stream",
     "text": [
      "----------------------------\n",
      "p = 0.25\n",
      "0.0022476286040300246  < t <  26.29666318965951\n",
      "----------------------------\n",
      "p = 0.5\n",
      "0.004496027298161922  < t <  20.060706093968722\n",
      "----------------------------\n",
      "p = 0.75\n",
      "5.7142421447070306e-05  < t <  17.50333771810467\n"
     ]
    }
   ],
   "source": [
    "epsilon = 1e-6\n",
    "for p, knot, gap in zip(ps,pi_knot,gaps):\n",
    "    print(\"----------------------------\")\n",
    "    print(f\"p = {p}\")\n",
    "    print((1/gap - 1)*np.log(1/(2*epsilon)),\" < t < \",np.log(1/(knot*epsilon))/gap)"
   ]
  },
  {
   "cell_type": "markdown",
   "id": "0cc49244",
   "metadata": {},
   "source": [
    "# Questão 3"
   ]
  },
  {
   "cell_type": "markdown",
   "id": "62c42936",
   "metadata": {},
   "source": [
    "## Item 1"
   ]
  },
  {
   "cell_type": "code",
   "execution_count": 28,
   "id": "40d44ce9",
   "metadata": {},
   "outputs": [],
   "source": [
    "def random_walk(i,j,p):\n",
    "    probs = np.zeros(5)#no maximo um vertice tem 4 opcoes, N,S,L,O e continuar onde está. \n",
    "    #Utilizaremos essa ordem N,S,L,O,Self loop para codificar as posições do vetor de probabilidades  \n",
    "    if i == 1 and j > 1: #so pode ir para a direita, para cima, para o sul ou continuar onde está\n",
    "        probs[0] = p/4\n",
    "        probs[1] = (1-p)/2\n",
    "        probs[2] = p/4\n",
    "        probs[4] = 1-np.sum(probs)\n",
    "    elif i > 1  and j == 1: #so pode ir para a direita, para cima, para a esquerda ou continuar onde está\n",
    "        probs[0] = p/4\n",
    "        probs[2] = p/4\n",
    "        probs[3] = (1-p)/2\n",
    "        probs[4] = 1-np.sum(probs)\n",
    "    elif i == 1  and j == 1: #so pode ir para direita ou para cima ou continuar onde está\n",
    "        probs[0] = p/4\n",
    "        probs[2] = p/4\n",
    "        probs[4] = 1-np.sum(probs)\n",
    "    else:\n",
    "        probs[0] = p/4\n",
    "        probs[1] = (1-p)/4\n",
    "        probs[2] = p/4\n",
    "        probs[3] = (1-p)/4\n",
    "        probs[4] = 1-np.sum(probs)\n",
    "    choice = np.random.choice(5,p=probs)\n",
    "    if choice == 0:\n",
    "        return (i,j+1)\n",
    "    elif choice == 1:\n",
    "        return (i,j-1)\n",
    "    elif choice == 2:\n",
    "        return (i+1,j)\n",
    "    elif choice == 3:\n",
    "        return (i-1,j)\n",
    "    else:\n",
    "        return (i,j)"
   ]
  },
  {
   "cell_type": "markdown",
   "id": "97b6a511",
   "metadata": {},
   "source": [
    "## Item 2"
   ]
  },
  {
   "cell_type": "code",
   "execution_count": 36,
   "id": "38316304",
   "metadata": {},
   "outputs": [],
   "source": [
    "orig = (1,1)\n",
    "def make_estimative_of_state(p,state=orig,N=1000,start=(1,1)):\n",
    "    point = start\n",
    "    count = 0\n",
    "    for i in range(N):\n",
    "        point = random_walk(point[0],point[1],p)\n",
    "        if point == state:\n",
    "            count += 1\n",
    "    return count/N"
   ]
  },
  {
   "cell_type": "code",
   "execution_count": 41,
   "id": "febec858",
   "metadata": {},
   "outputs": [
    {
     "name": "stdout",
     "output_type": "stream",
     "text": [
      "Estimativa de pi_(1, 1) para p = 0.25 0.67702\n",
      "Estimativa de pi_(1, 1) para p = 0.35 0.4662\n",
      "Estimativa de pi_(1, 1) para p = 0.45 0.20298\n"
     ]
    }
   ],
   "source": [
    "ps = [0.25, 0.35, 0.45]\n",
    "for p in ps:\n",
    "    e = make_estimative_of_state(p,N=50000)\n",
    "    print(f\"Estimativa de pi_{1,1} para p = {p}\",e)"
   ]
  },
  {
   "cell_type": "markdown",
   "id": "8360e7e9",
   "metadata": {},
   "source": [
    "## Item 3"
   ]
  },
  {
   "cell_type": "code",
   "execution_count": 43,
   "id": "cd819677",
   "metadata": {},
   "outputs": [],
   "source": [
    "def expected_manhattan_distance(p,N=10,start=orig):\n",
    "    point = start\n",
    "    dist = 0\n",
    "    for i in range(N):\n",
    "        point = random_walk(point[0],point[1],p)\n",
    "        dist += point[0] + point[1] - 2  \n",
    "    return dist/N  "
   ]
  },
  {
   "cell_type": "code",
   "execution_count": 46,
   "id": "6a6da55a",
   "metadata": {},
   "outputs": [
    {
     "name": "stdout",
     "output_type": "stream",
     "text": [
      "Estimativa E[distância manhattan] para p = 0.25 e n = 10 0.1\n",
      "Estimativa E[distância manhattan] para p = 0.25 e n = 100 0.4\n",
      "Estimativa E[distância manhattan] para p = 0.25 e n = 1000 0.508\n",
      "-----------------------------\n",
      "Estimativa E[distância manhattan] para p = 0.35 e n = 10 0.1\n",
      "Estimativa E[distância manhattan] para p = 0.35 e n = 100 0.94\n",
      "Estimativa E[distância manhattan] para p = 0.35 e n = 1000 1.007\n",
      "-----------------------------\n",
      "Estimativa E[distância manhattan] para p = 0.45 e n = 10 2.3\n",
      "Estimativa E[distância manhattan] para p = 0.45 e n = 100 2.16\n",
      "Estimativa E[distância manhattan] para p = 0.45 e n = 1000 5.226\n",
      "-----------------------------\n"
     ]
    }
   ],
   "source": [
    "ns = [10,100,1000]\n",
    "for p in ps:\n",
    "    for n in ns:\n",
    "        e = expected_manhattan_distance(p,N=n)\n",
    "        print(f\"Estimativa E[distância manhattan] para p = {p} e n = {n}\",e)\n",
    "    print(\"-----------------------------\")"
   ]
  },
  {
   "cell_type": "markdown",
   "id": "e2dcc509",
   "metadata": {},
   "source": [
    "### Quanto maior o p maior o valor esperado da distância manhattan"
   ]
  }
 ],
 "metadata": {
  "kernelspec": {
   "display_name": "Python 3 (ipykernel)",
   "language": "python",
   "name": "python3"
  },
  "language_info": {
   "codemirror_mode": {
    "name": "ipython",
    "version": 3
   },
   "file_extension": ".py",
   "mimetype": "text/x-python",
   "name": "python",
   "nbconvert_exporter": "python",
   "pygments_lexer": "ipython3",
   "version": "3.9.7"
  }
 },
 "nbformat": 4,
 "nbformat_minor": 5
}
