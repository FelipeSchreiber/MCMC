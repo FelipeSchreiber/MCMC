{
 "cells": [
  {
   "cell_type": "code",
   "execution_count": 1,
   "id": "ed5ad577",
   "metadata": {},
   "outputs": [],
   "source": [
    "import numpy as np\n",
    "import matplotlib.pyplot as plt\n",
    "import requests"
   ]
  },
  {
   "cell_type": "markdown",
   "id": "589b4c77",
   "metadata": {},
   "source": [
    "## Questão 5"
   ]
  },
  {
   "cell_type": "markdown",
   "id": "e45889aa",
   "metadata": {},
   "source": [
    "Seja X_i uma v.a. uniforme [0,1]. Vamos calcular uma aproximação para e usando o valor esperado do numero de vezes necessário para que o somatório de X_i > 1, i = 1,...,n."
   ]
  },
  {
   "cell_type": "code",
   "execution_count": 2,
   "id": "6ebcb8f5",
   "metadata": {},
   "outputs": [
    {
     "data": {
      "text/plain": [
       "2.734"
      ]
     },
     "execution_count": 2,
     "metadata": {},
     "output_type": "execute_result"
    }
   ],
   "source": [
    "def compute_e(N):\n",
    "    total = 0\n",
    "    for i in range(N):\n",
    "        sum_ = 0\n",
    "        trials = 0\n",
    "        while sum_ < 1:\n",
    "            sum_ += np.random.uniform(0,1,1)\n",
    "            trials += 1\n",
    "        total += trials\n",
    "    return total/N\n",
    "N = 1000\n",
    "compute_e(N)"
   ]
  },
  {
   "cell_type": "code",
   "execution_count": 3,
   "id": "69888d96",
   "metadata": {},
   "outputs": [],
   "source": [
    "y = []\n",
    "for i in range(1,1001):\n",
    "    y.append(compute_e(i))"
   ]
  },
  {
   "cell_type": "code",
   "execution_count": 4,
   "id": "c299ad9f",
   "metadata": {},
   "outputs": [
    {
     "data": {
      "image/png": "[encoded data removed]",
      "text/plain": [
       "<Figure size 432x288 with 1 Axes>"
      ]
     },
     "metadata": {
      "needs_background": "light"
     },
     "output_type": "display_data"
    }
   ],
   "source": [
    "plt.plot(range(1,1001),y)\n",
    "plt.xlabel(\"Numero de amostras\")\n",
    "plt.ylabel(\"Valor estimado\")\n",
    "plt.axhline(y=np.e,color = 'r',label=\"Euler number (e)\")\n",
    "plt.legend()\n",
    "plt.title(\"Estimating \\\"e\\\" as E[Z], where Z is the minimum number of trials that $\\sum_{i=1}^Z r_i > 1$\")\n",
    "plt.show()"
   ]
  },
  {
   "cell_type": "markdown",
   "id": "b4ae56a2",
   "metadata": {},
   "source": [
    "## Questão 7 "
   ]
  },
  {
   "cell_type": "markdown",
   "id": "0da0e043",
   "metadata": {},
   "source": [
    "Estimating the number of pages on the web with k <= 4 letters"
   ]
  },
  {
   "cell_type": "code",
   "execution_count": 5,
   "id": "55fd95a6",
   "metadata": {},
   "outputs": [],
   "source": [
    "alphabet = ['a', 'b', 'c', 'd', 'e', 'f', 'g', 'h', 'i', 'j', 'k', 'l', 'm', 'n', 'o', 'p', 'q', 'r', 's', 't', 'u', 'v', 'w', 'x', 'y', 'z']"
   ]
  },
  {
   "cell_type": "code",
   "execution_count": 6,
   "id": "a514b86e",
   "metadata": {},
   "outputs": [],
   "source": [
    "def make_estimative(k,n):\n",
    "    sum_ = np.sum([26**i for i in range(1,k+1)])\n",
    "    #CRIA UM INTERVALO DE 0-1 PARA FAZER AMOSTRAGENS PROPORCIONAIS A QUANTIDADE DE LETRAS EM CADA INTERVALO\n",
    "    intervals = [26**i/sum_ for i in range(1,k+1)]\n",
    "    for i in range(k-1):\n",
    "        intervals[i+1] += intervals[i]\n",
    "    samples = np.random.uniform(0,1,n)\n",
    "    total = 0#variavel que armazena quantos sites o request atendeu\n",
    "    for sample in samples:\n",
    "        m = 1 #É uma variável que determina quantas letras serão amostradas. \n",
    "        #Se a v.a. cair no primeiro intervalo, então apenas uma será amostrada. Se no segundo intervalo, duas, etc.\n",
    "        for l,i in enumerate(intervals):\n",
    "            if sample > i:\n",
    "                m += 1\n",
    "        letters_index = np.random.randint(0,25,m)\n",
    "        site = \"\"\n",
    "        for v in letters_index:\n",
    "            site+=alphabet[v]\n",
    "        site = \"http://www.\"+site+\".ufrj.br\"\n",
    "        try:\n",
    "            response = requests.get(site)\n",
    "            if response.status_code == 200:\n",
    "                total+=1\n",
    "        except requests.ConnectionError:\n",
    "            pass\n",
    "    return sum_*total/n"
   ]
  },
  {
   "cell_type": "code",
   "execution_count": 8,
   "id": "5f0f55a2",
   "metadata": {
    "scrolled": false
   },
   "outputs": [],
   "source": [
    "# y = []\n",
    "# for i in np.linspace(1,10000,10):\n",
    "#     y.append(make_estimative(4,int(i)))"
   ]
  },
  {
   "cell_type": "code",
   "execution_count": null,
   "id": "7387fd17",
   "metadata": {},
   "outputs": [],
   "source": [
    "plt.plot(range(1,1000),y)\n",
    "plt.xlabel(\"Numero de amostras\")\n",
    "plt.ylabel(\"Valor estimado\")\n",
    "plt.show()"
   ]
  },
  {
   "cell_type": "markdown",
   "id": "d5e3fc81",
   "metadata": {},
   "source": [
    "## Questão 8  "
   ]
  },
  {
   "cell_type": "markdown",
   "id": "eef9d948",
   "metadata": {},
   "source": [
    "Sampling Binomial distribution from uniform "
   ]
  },
  {
   "cell_type": "code",
   "execution_count": 15,
   "id": "4ecc4e8b",
   "metadata": {},
   "outputs": [],
   "source": [
    "from scipy.special import binom\n",
    "n = 1000\n",
    "p = 0.2\n",
    "c = binom(n,n*p)*(0.2**(n*p))*(0.8**(n - n*p))\n",
    "k = 1e-3/c"
   ]
  },
  {
   "cell_type": "code",
   "execution_count": 17,
   "id": "d59b43f8",
   "metadata": {},
   "outputs": [
    {
     "data": {
      "text/plain": [
       "0.031720493050127994"
      ]
     },
     "execution_count": 17,
     "metadata": {},
     "output_type": "execute_result"
    }
   ],
   "source": [
    "k"
   ]
  },
  {
   "cell_type": "code",
   "execution_count": null,
   "id": "45633efe",
   "metadata": {},
   "outputs": [],
   "source": [
    "def sample_binom(n,p):\n",
    "    max_pmf = binom(n,n*p)*(0.2**(n*p))*(0.8**(n - n*p))\n",
    "    while True:\n",
    "        sample = np.random.randint(0,n)\n",
    "        u = np.random.uniform(0,max_pmf)\n",
    "        if u < binom(n,sample)*(0.2**(sample))*(0.8**(n - sample)):\n",
    "            return sample"
   ]
  },
  {
   "cell_type": "code",
   "execution_count": null,
   "id": "ee133cc6",
   "metadata": {},
   "outputs": [],
   "source": [
    "y = []\n",
    "for i in range(10000):\n",
    "    y.append(sample_binom(1000,0.2))\n",
    "plt.hist(y,100)"
   ]
  },
  {
   "cell_type": "code",
   "execution_count": 18,
   "id": "a1fe287d",
   "metadata": {},
   "outputs": [],
   "source": [
    "def gauss(x):\n",
    "    return np.exp(-(x-200)**2/(2*160))/(np.sqrt(2*np.pi*160))"
   ]
  },
  {
   "cell_type": "code",
   "execution_count": 21,
   "id": "26c3862f",
   "metadata": {},
   "outputs": [],
   "source": [
    "from scipy.integrate import quad "
   ]
  },
  {
   "cell_type": "code",
   "execution_count": 22,
   "id": "0ac6d057",
   "metadata": {},
   "outputs": [
    {
     "data": {
      "text/plain": [
       "(7.168116761710446e-55, 7.958208272052455e-69)"
      ]
     },
     "execution_count": 22,
     "metadata": {},
     "output_type": "execute_result"
    }
   ],
   "source": [
    "quad(gauss,2.5,3.5)"
   ]
  },
  {
   "cell_type": "code",
   "execution_count": 103,
   "id": "e7575a94",
   "metadata": {},
   "outputs": [],
   "source": [
    "from scipy.stats import binom as binom2\n",
    "maximum = 0\n",
    "x = list(range(1001))\n",
    "dist = [binom2.pmf(r, n, p) for r in x]\n",
    "gauss_dist = [quad(gauss,i-0.5,i+0.5)[0] for r in x] \n",
    "for i in range(1001):\n",
    "    u = quad(gauss,i-0.5,i+0.5)[0]\n",
    "    if(dist[i] == 0 or u == 0 or u<1e-15 or dist[i]<1e-15):\n",
    "        continue\n",
    "    v = dist[i]/u\n",
    "    if v > maximum:\n",
    "        maximum = v"
   ]
  },
  {
   "cell_type": "code",
   "execution_count": 104,
   "id": "b6e86dc5",
   "metadata": {},
   "outputs": [
    {
     "data": {
      "text/plain": [
       "<matplotlib.legend.Legend at 0x7f1a76b3e550>"
      ]
     },
     "execution_count": 104,
     "metadata": {},
     "output_type": "execute_result"
    },
    {
     "data": {
      "image/png": "[encoded data removed]",
      "text/plain": [
       "<Figure size 432x288 with 1 Axes>"
      ]
     },
     "metadata": {
      "needs_background": "light"
     },
     "output_type": "display_data"
    }
   ],
   "source": [
    "plt.scatter(x,dist,label=\"Binom\")\n",
    "x2 = np.linspace(0,1001,4000)\n",
    "plt.scatter(x2,gauss(x2),label=\"Gauss\")\n",
    "plt.legend()"
   ]
  },
  {
   "cell_type": "code",
   "execution_count": 106,
   "id": "f375ef36",
   "metadata": {},
   "outputs": [
    {
     "data": {
      "text/plain": [
       "0.058063495043001"
      ]
     },
     "execution_count": 106,
     "metadata": {},
     "output_type": "execute_result"
    }
   ],
   "source": [
    "1/maximum"
   ]
  },
  {
   "cell_type": "code",
   "execution_count": null,
   "id": "e7717e24",
   "metadata": {},
   "outputs": [],
   "source": [
    "def sample_binom2(n,p):\n",
    "   ##TODO"
   ]
  },
  {
   "cell_type": "markdown",
   "id": "a0e3bcab",
   "metadata": {},
   "source": [
    "## Questão 9 "
   ]
  },
  {
   "cell_type": "markdown",
   "id": "3dbef18f",
   "metadata": {},
   "source": [
    "Approximating the integral $\\int_0^1e^{-x^2}dx$"
   ]
  },
  {
   "cell_type": "code",
   "execution_count": null,
   "id": "313e2df6",
   "metadata": {},
   "outputs": [],
   "source": [
    "n = 1000000\n",
    "exact = 0.746824\n",
    "def method1(n):\n",
    "    samples_x = np.random.uniform(0,1,n)\n",
    "    samples_y = np.random.uniform(0,1,n)\n",
    "    total = 0\n",
    "    for x,y in zip(samples_x,samples_y):\n",
    "        if y < np.exp(-x**2):\n",
    "            total += 1\n",
    "    return total/n\n",
    "\n",
    "def generate_H(x):\n",
    "    return np.e*np.exp(-x)/(np.e - 1)\n",
    "\n",
    "def generate_H_inv(u):\n",
    "    return -np.log(1 - u*(np.e-1)/np.e)\n",
    "\n",
    "def method2(n):\n",
    "    u = np.random.uniform(0,1,n)\n",
    "    x = generate_H_inv(u)\n",
    "    t = np.sum(np.exp(-x**2)/generate_H(x))\n",
    "    return t/n"
   ]
  },
  {
   "cell_type": "code",
   "execution_count": null,
   "id": "78a65282",
   "metadata": {},
   "outputs": [],
   "source": [
    "y_1 = []\n",
    "y_2 = []\n",
    "fig,axs = plt.subplots(1,2,figsize=(16,8))\n",
    "ns = [10**i for i in range(7)]\n",
    "for n in ns:\n",
    "    y_1.append(method1(n))\n",
    "    y_2.append(method2(n))\n",
    "axs[0].plot(ns,y_1,label=\"method 1\")\n",
    "axs[0].plot(ns,y_2,label=\"method 2\")\n",
    "axs[0].legend()\n",
    "axs[0].set_title(\"Estimative of integral\")\n",
    "axs[1].plot(ns,np.abs([(y_1[i] - exact)/exact for i in range(len(y_1))]),label=\"method 1\")\n",
    "axs[1].plot(ns,np.abs([(y_2[i] - exact)/exact for i in range(len(y_1))]),label=\"method 2\")\n",
    "axs[1].legend()\n",
    "axs[1].set_title(\"Errors\")\n",
    "axs[1].set_ylim(0,0.05)"
   ]
  }
 ],
 "metadata": {
  "kernelspec": {
   "display_name": "Python 3 (ipykernel)",
   "language": "python",
   "name": "python3"
  },
  "language_info": {
   "codemirror_mode": {
    "name": "ipython",
    "version": 3
   },
   "file_extension": ".py",
   "mimetype": "text/x-python",
   "name": "python",
   "nbconvert_exporter": "python",
   "pygments_lexer": "ipython3",
   "version": "3.9.7"
  }
 },
 "nbformat": 4,
 "nbformat_minor": 5
}
