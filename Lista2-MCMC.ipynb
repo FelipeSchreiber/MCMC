{
 "cells": [
  {
   "cell_type": "code",
   "execution_count": 2,
   "id": "ed5ad577",
   "metadata": {},
   "outputs": [],
   "source": [
    "import numpy as np\n",
    "import matplotlib.pyplot as plt\n",
    "import requests"
   ]
  },
  {
   "cell_type": "markdown",
   "id": "589b4c77",
   "metadata": {},
   "source": [
    "## Questão 5"
   ]
  },
  {
   "cell_type": "markdown",
   "id": "e45889aa",
   "metadata": {},
   "source": [
    "Seja X_i uma v.a. uniforme [0,1]. Vamos calcular uma aproximação para e usando o valor esperado do numero de vezes necessário para que o somatório de X_i > 1, i = 1,...,n."
   ]
  },
  {
   "cell_type": "code",
   "execution_count": 3,
   "id": "6ebcb8f5",
   "metadata": {},
   "outputs": [
    {
     "data": {
      "text/plain": [
       "2.712"
      ]
     },
     "execution_count": 3,
     "metadata": {},
     "output_type": "execute_result"
    }
   ],
   "source": [
    "def compute_e(N):\n",
    "    total = 0\n",
    "    for i in range(N):\n",
    "        sum_ = 0\n",
    "        trials = 0\n",
    "        while sum_ < 1:\n",
    "            sum_ += np.random.uniform(0,1,1)\n",
    "            trials += 1\n",
    "        total += trials\n",
    "    return total/N\n",
    "N = 1000\n",
    "compute_e(N)"
   ]
  },
  {
   "cell_type": "code",
   "execution_count": 4,
   "id": "69888d96",
   "metadata": {},
   "outputs": [],
   "source": [
    "y = []\n",
    "for i in range(1,1001):\n",
    "    y.append(compute_e(i))"
   ]
  },
  {
   "cell_type": "code",
   "execution_count": 5,
   "id": "c299ad9f",
   "metadata": {},
   "outputs": [
    {
     "data": {
      "image/png": "[encoded data removed]",
      "text/plain": [
       "<Figure size 432x288 with 1 Axes>"
      ]
     },
     "metadata": {
      "needs_background": "light"
     },
     "output_type": "display_data"
    }
   ],
   "source": [
    "plt.plot(range(1,1001),y)\n",
    "plt.xlabel(\"Numero de amostras\")\n",
    "plt.ylabel(\"Valor estimado\")\n",
    "plt.axhline(y=np.e,color = 'r',label=\"Euler number (e)\")\n",
    "plt.legend()\n",
    "plt.title(\"Estimating \\\"e\\\" as E[Z], where Z is the minimum number of trials that $\\sum_{i=1}^Z r_i > 1$\")\n",
    "plt.show()"
   ]
  },
  {
   "cell_type": "markdown",
   "id": "b4ae56a2",
   "metadata": {},
   "source": [
    "## Questão 7 "
   ]
  },
  {
   "cell_type": "markdown",
   "id": "0da0e043",
   "metadata": {},
   "source": [
    "Estimating the number of pages on the web with k <= 4 letters"
   ]
  },
  {
   "cell_type": "code",
   "execution_count": 5,
   "id": "55fd95a6",
   "metadata": {},
   "outputs": [],
   "source": [
    "alphabet = ['a', 'b', 'c', 'd', 'e', 'f', 'g', 'h', 'i', 'j', 'k', 'l', 'm', 'n', 'o', 'p', 'q', 'r', 's', 't', 'u', 'v', 'w', 'x', 'y', 'z']"
   ]
  },
  {
   "cell_type": "code",
   "execution_count": 6,
   "id": "a514b86e",
   "metadata": {},
   "outputs": [],
   "source": [
    "def make_estimative(k,n):\n",
    "    sum_ = np.sum([26**i for i in range(1,k+1)])\n",
    "    #CRIA UM INTERVALO DE 0-1 PARA FAZER AMOSTRAGENS PROPORCIONAIS A QUANTIDADE DE LETRAS EM CADA INTERVALO\n",
    "    intervals = [26**i/sum_ for i in range(1,k+1)]\n",
    "    for i in range(k-1):\n",
    "        intervals[i+1] += intervals[i]\n",
    "    samples = np.random.uniform(0,1,n)\n",
    "    total = 0#variavel que armazena quantos sites o request atendeu\n",
    "    for sample in samples:\n",
    "        m = 1 #É uma variável que determina quantas letras serão amostradas. \n",
    "        #Se a v.a. cair no primeiro intervalo, então apenas uma será amostrada. Se no segundo intervalo, duas, etc.\n",
    "        for l,i in enumerate(intervals):\n",
    "            if sample > i:\n",
    "                m += 1\n",
    "        letters_index = np.random.randint(0,25,m)\n",
    "        site = \"\"\n",
    "        for v in letters_index:\n",
    "            site+=alphabet[v]\n",
    "        site = \"http://www.\"+site+\".ufrj.br\"\n",
    "        try:\n",
    "            response = requests.get(site)\n",
    "            if response.status_code == 200:\n",
    "                total+=1\n",
    "        except requests.ConnectionError:\n",
    "            pass\n",
    "    return sum_*total/n"
   ]
  },
  {
   "cell_type": "code",
   "execution_count": 9,
   "id": "5f0f55a2",
   "metadata": {
    "scrolled": false
   },
   "outputs": [],
   "source": [
    "y = []\n",
    "for i in np.linspace(1,10000,10):\n",
    "    y.append(make_estimative(4,int(i)))"
   ]
  },
  {
   "cell_type": "code",
   "execution_count": null,
   "id": "7387fd17",
   "metadata": {},
   "outputs": [],
   "source": [
    "plt.plot(range(1,1000),y)\n",
    "plt.xlabel(\"Numero de amostras\")\n",
    "plt.ylabel(\"Valor estimado\")\n",
    "plt.show()"
   ]
  },
  {
   "cell_type": "markdown",
   "id": "d5e3fc81",
   "metadata": {},
   "source": [
    "## Questão 8  "
   ]
  },
  {
   "cell_type": "markdown",
   "id": "eef9d948",
   "metadata": {},
   "source": [
    "Sampling Binomial distribution from uniform "
   ]
  },
  {
   "cell_type": "code",
   "execution_count": 9,
   "id": "4ecc4e8b",
   "metadata": {},
   "outputs": [
    {
     "data": {
      "text/plain": [
       "0.03152536117328621"
      ]
     },
     "execution_count": 9,
     "metadata": {},
     "output_type": "execute_result"
    }
   ],
   "source": [
    "n = 1000\n",
    "p = 0.2\n",
    "binom(n,n*p)*(0.2**(n*p))*(0.8**(n - n*p))"
   ]
  },
  {
   "cell_type": "code",
   "execution_count": 5,
   "id": "45633efe",
   "metadata": {},
   "outputs": [],
   "source": [
    "from scipy.special import binom\n",
    "def sample_binom(n,p):\n",
    "    max_pmf = binom(n,n*p)*(0.2**(n*p))*(0.8**(n - n*p))\n",
    "    while True:\n",
    "        sample = np.random.randint(0,n)\n",
    "        u = np.random.uniform(0,max_pmf)\n",
    "        if u < binom(n,sample)*(0.2**(sample))*(0.8**(n - sample)):\n",
    "            return sample"
   ]
  },
  {
   "cell_type": "code",
   "execution_count": 6,
   "id": "ee133cc6",
   "metadata": {},
   "outputs": [
    {
     "data": {
      "text/plain": [
       "(array([  1.,   1.,   2.,   2.,   0.,   1.,   4.,   2.,   3.,   7.,   5.,\n",
       "          0.,   4.,   7.,  20.,  13.,  12.,  18.,  25.,  28.,  38.,  47.,\n",
       "          0.,  58.,  66.,  80.,  75.,  95.,  93., 105., 134., 147., 157.,\n",
       "          0., 165., 179., 182., 242., 237., 244., 262., 238., 288., 311.,\n",
       "          0., 312., 301., 338., 300., 323., 291., 306., 307., 283., 271.,\n",
       "          0., 288., 301., 280., 227., 233., 216., 188., 202., 163., 169.,\n",
       "          0., 149., 105., 115.,  84.,  95.,  78.,  83.,  63.,  60.,  43.,\n",
       "          0.,  40.,  31.,  28.,  25.,  23.,  14.,  11.,  12.,  11.,   8.,\n",
       "          0.,   4.,   3.,   4.,   5.,   3.,   2.,   0.,   1.,   2.,   0.,\n",
       "          1.]),\n",
       " array([155.  , 155.91, 156.82, 157.73, 158.64, 159.55, 160.46, 161.37,\n",
       "        162.28, 163.19, 164.1 , 165.01, 165.92, 166.83, 167.74, 168.65,\n",
       "        169.56, 170.47, 171.38, 172.29, 173.2 , 174.11, 175.02, 175.93,\n",
       "        176.84, 177.75, 178.66, 179.57, 180.48, 181.39, 182.3 , 183.21,\n",
       "        184.12, 185.03, 185.94, 186.85, 187.76, 188.67, 189.58, 190.49,\n",
       "        191.4 , 192.31, 193.22, 194.13, 195.04, 195.95, 196.86, 197.77,\n",
       "        198.68, 199.59, 200.5 , 201.41, 202.32, 203.23, 204.14, 205.05,\n",
       "        205.96, 206.87, 207.78, 208.69, 209.6 , 210.51, 211.42, 212.33,\n",
       "        213.24, 214.15, 215.06, 215.97, 216.88, 217.79, 218.7 , 219.61,\n",
       "        220.52, 221.43, 222.34, 223.25, 224.16, 225.07, 225.98, 226.89,\n",
       "        227.8 , 228.71, 229.62, 230.53, 231.44, 232.35, 233.26, 234.17,\n",
       "        235.08, 235.99, 236.9 , 237.81, 238.72, 239.63, 240.54, 241.45,\n",
       "        242.36, 243.27, 244.18, 245.09, 246.  ]),\n",
       " <BarContainer object of 100 artists>)"
      ]
     },
     "execution_count": 6,
     "metadata": {},
     "output_type": "execute_result"
    },
    {
     "data": {
      "image/png": "[encoded data removed]",
      "text/plain": [
       "<Figure size 432x288 with 1 Axes>"
      ]
     },
     "metadata": {
      "needs_background": "light"
     },
     "output_type": "display_data"
    }
   ],
   "source": [
    "y = []\n",
    "for i in range(10000):\n",
    "    y.append(sample_binom(1000,0.2))\n",
    "plt.hist(y,100)"
   ]
  },
  {
   "cell_type": "code",
   "execution_count": null,
   "id": "e7717e24",
   "metadata": {},
   "outputs": [],
   "source": [
    "def sample_binom2(n,p):\n",
    "   ##TODO"
   ]
  },
  {
   "cell_type": "markdown",
   "id": "a0e3bcab",
   "metadata": {},
   "source": [
    "## Questão 9 "
   ]
  },
  {
   "cell_type": "markdown",
   "id": "3dbef18f",
   "metadata": {},
   "source": [
    "Approximating the integral $\\int_0^1e^{-x^2}dx$"
   ]
  },
  {
   "cell_type": "code",
   "execution_count": 19,
   "id": "313e2df6",
   "metadata": {},
   "outputs": [],
   "source": [
    "n = 1000000\n",
    "exact = 0.746824\n",
    "def method1(n):\n",
    "    samples_x = np.random.uniform(0,1,n)\n",
    "    samples_y = np.random.uniform(0,1,n)\n",
    "    total = 0\n",
    "    for x,y in zip(samples_x,samples_y):\n",
    "        if y < np.exp(-x**2):\n",
    "            total += 1\n",
    "    return total/n\n",
    "\n",
    "def generate_H(x):\n",
    "    return np.e*np.exp(-x)/(np.e - 1)\n",
    "\n",
    "def generate_H_inv(u):\n",
    "    return -np.log(1 - u*(np.e-1)/np.e)\n",
    "\n",
    "def method2(n):\n",
    "    u = np.random.uniform(0,1,n)\n",
    "    x = generate_H_inv(u)\n",
    "    t = np.sum(np.exp(-x**2)/generate_H(x))\n",
    "    return t/n"
   ]
  },
  {
   "cell_type": "code",
   "execution_count": 58,
   "id": "78a65282",
   "metadata": {},
   "outputs": [
    {
     "data": {
      "text/plain": [
       "(0.0, 0.05)"
      ]
     },
     "execution_count": 58,
     "metadata": {},
     "output_type": "execute_result"
    },
    {
     "data": {
      "image/png": "[encoded data removed]",
      "text/plain": [
       "<Figure size 1152x576 with 2 Axes>"
      ]
     },
     "metadata": {
      "needs_background": "light"
     },
     "output_type": "display_data"
    }
   ],
   "source": [
    "y_1 = []\n",
    "y_2 = []\n",
    "fig,axs = plt.subplots(1,2,figsize=(16,8))\n",
    "ns = [10**i for i in range(7)]\n",
    "for n in ns:\n",
    "    y_1.append(method1(n))\n",
    "    y_2.append(method2(n))\n",
    "axs[0].plot(ns,y_1,label=\"method 1\")\n",
    "axs[0].plot(ns,y_2,label=\"method 2\")\n",
    "axs[0].legend()\n",
    "axs[0].set_title(\"Estimative of integral\")\n",
    "axs[1].plot(ns,np.abs([(y_1[i] - exact)/exact for i in range(len(y_1))]),label=\"method 1\")\n",
    "axs[1].plot(ns,np.abs([(y_2[i] - exact)/exact for i in range(len(y_1))]),label=\"method 2\")\n",
    "axs[1].legend()\n",
    "axs[1].set_title(\"Errors\")\n",
    "axs[1].set_ylim(0,0.05)"
   ]
  }
 ],
 "metadata": {
  "kernelspec": {
   "display_name": "Python 3 (ipykernel)",
   "language": "python",
   "name": "python3"
  },
  "language_info": {
   "codemirror_mode": {
    "name": "ipython",
    "version": 3
   },
   "file_extension": ".py",
   "mimetype": "text/x-python",
   "name": "python",
   "nbconvert_exporter": "python",
   "pygments_lexer": "ipython3",
   "version": "3.9.7"
  }
 },
 "nbformat": 4,
 "nbformat_minor": 5
}
